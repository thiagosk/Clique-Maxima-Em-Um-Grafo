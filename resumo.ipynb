{
 "cells": [
  {
   "cell_type": "code",
   "execution_count": null,
   "metadata": {},
   "outputs": [],
   "source": [
    "// Hearder do codigo OpenMP\n",
    "\n",
    "#include <omp.h>\n",
    "#include <iomanip>\n",
    "#include <unistd.h>\n",
    "#include <iostream>\n",
    "using namespace std;"
   ]
  },
  {
   "cell_type": "code",
   "execution_count": null,
   "metadata": {},
   "outputs": [],
   "source": [
    "// Compilando OpenMP\n",
    "g++ -Wall -O3 -fopenmp -g NOME.cpp -o NOME\n",
    "\n",
    "// Executavel\n",
    "./NOME"
   ]
  },
  {
   "cell_type": "code",
   "execution_count": null,
   "metadata": {},
   "outputs": [],
   "source": [
    "// Compilando MPI\n",
    "mpic++ -o NOME NOME.cpp"
   ]
  },
  {
   "cell_type": "code",
   "execution_count": null,
   "metadata": {},
   "outputs": [],
   "source": [
    "#!/bin/bash\n",
    "#SBATCH -n 6\n",
    "#SBATCH -N 2\n",
    "#SBATCH --nodelist=compute00, compute01\n",
    "#SBATCH --cpuS-per-task=3\n",
    "#SBATCH --time=00:10:00\n",
    "#SBATCH --partition=normal\n",
    "\n",
    "mpirun --allow-run-as-root -np 6 ./NOME_EXEC"
   ]
  },
  {
   "cell_type": "code",
   "execution_count": null,
   "metadata": {},
   "outputs": [],
   "source": [
    "// Submetendo no cluster com slurm\n",
    "sbatch NOME.slurm\n",
    "\n",
    "// Analise do job no slurm\n",
    "scontrol show job NUM_JOB"
   ]
  },
  {
   "cell_type": "code",
   "execution_count": null,
   "metadata": {},
   "outputs": [],
   "source": []
  }
 ],
 "metadata": {
  "language_info": {
   "name": "python"
  }
 },
 "nbformat": 4,
 "nbformat_minor": 2
}
