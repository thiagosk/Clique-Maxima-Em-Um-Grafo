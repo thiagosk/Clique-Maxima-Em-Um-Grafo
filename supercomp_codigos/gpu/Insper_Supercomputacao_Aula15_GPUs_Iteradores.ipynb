{
  "cells": [
    {
      "cell_type": "markdown",
      "metadata": {
        "id": "aOjOhpAqg3Ot"
      },
      "source": [
        "Insper\n",
        "\n",
        "# Aula 14\n",
        "\n",
        "Iteradores"
      ]
    },
    {
      "cell_type": "code",
      "execution_count": null,
      "metadata": {
        "colab": {
          "base_uri": "https://localhost:8080/"
        },
        "id": "pmZ4Ok2nlONO",
        "outputId": "89c7e29d-0a17-4871-85a1-435e4714aa1e"
      },
      "outputs": [
        {
          "name": "stdout",
          "output_type": "stream",
          "text": [
            "Overwriting stocks1.cu\n"
          ]
        }
      ],
      "source": [
        "%%writefile stocks1.cu\n",
        "#include<thrust/device_vector.h>\n",
        "#include <thrust/host_vector.h>\n",
        "#include <iostream>\n",
        "#include <chrono>\n",
        "using namespace std;\n",
        "int main() {\n",
        "    int n =  2518;\n",
        "    double value = 0.0;\n",
        "    std::chrono::duration<double> diff;\n",
        "\n",
        "    auto leitura_i = std::chrono::steady_clock::now();\n",
        "    thrust::host_vector<double> host(n,0);\n",
        "    for(int i = 0; i<n; i++){\n",
        "        cin >> value;\n",
        "        host[i] = value;\n",
        "    }\n",
        "    auto leitura_f = std::chrono::steady_clock::now();\n",
        "    diff  = leitura_f-leitura_i;\n",
        "    cout << \"Tempo de LEITURA (em segundos)  \" << diff.count() << endl;\n",
        "\n",
        "\n",
        "    auto copia_i = std::chrono::steady_clock::now();\n",
        "    thrust::device_vector<double> dev(host);\n",
        "    auto copia_f = std::chrono::steady_clock::now();\n",
        "    diff  = copia_f-copia_i;\n",
        "    cout << \"Tempo de CÓPIA (em segundos)  \" << diff.count() << endl;\n",
        "\n",
        "\n",
        "\n",
        "    // Calcula a média dos preços usando Thrust\n",
        "    double media = thrust::reduce(dev.begin(), dev.end()) / dev.size();\n",
        "\n",
        "    // Calcula o maior e o menor preço usando Thrust\n",
        "    auto maxMinPair = thrust::minmax_element(dev.begin(), dev.end());\n",
        "    double maiorPreco = *maxMinPair.second;\n",
        "    double menorPreco = *maxMinPair.first;\n",
        "\n",
        "    // Exibe os resultados\n",
        "    cout << \"Média dos preços nos últimos 10 anos: \" << media << endl;\n",
        "\n",
        "    // Preços no último ano\n",
        "    thrust::device_vector<double> lastYearPrices(dev.end() - 365, dev.end());\n",
        "    double lastYearMedia = thrust::reduce(lastYearPrices.begin(), lastYearPrices.end()) / lastYearPrices.size();\n",
        "\n",
        "    auto lastYearMaxMinPair = thrust::minmax_element(lastYearPrices.begin(), lastYearPrices.end());\n",
        "    double lastYearMaiorPreco = *lastYearMaxMinPair.second;\n",
        "    double lastYearMenorPreco = *lastYearMaxMinPair.first;\n",
        "\n",
        "    cout << \"Média dos preços no último ano: \" << lastYearMedia << endl;\n",
        "    cout << \"Maior preço dos últimos 10 anos: \" << maiorPreco << endl;\n",
        "    cout << \"Menor preço dos últimos 10 anos: \" << menorPreco << endl;\n",
        "    cout << \"Maior preço no último ano: \" << lastYearMaiorPreco << endl;\n",
        "    cout << \"Menor preço no último ano: \" << lastYearMenorPreco << endl;\n",
        "\n",
        "\n",
        "}"
      ]
    },
    {
      "cell_type": "code",
      "execution_count": null,
      "metadata": {
        "id": "EOF4KFwRlSmk"
      },
      "outputs": [],
      "source": [
        "!nvcc -arch=sm_70 -std=c++14 stocks1.cu -o stocks1"
      ]
    },
    {
      "cell_type": "code",
      "execution_count": null,
      "metadata": {
        "colab": {
          "base_uri": "https://localhost:8080/"
        },
        "id": "JUaZRb9GlYrf",
        "outputId": "211bbfe2-1ba4-4a3d-dfbf-857a0ce3c3ab"
      },
      "outputs": [
        {
          "name": "stdout",
          "output_type": "stream",
          "text": [
            "Tempo de LEITURA (em segundos)  0.00317803\n",
            "Tempo de CÓPIA (em segundos)  0.114104\n",
            "Média dos preços nos últimos 10 anos: 494.207\n",
            "Média dos preços no último ano: 959.588\n",
            "Maior preço dos últimos 10 anos: 1187.56\n",
            "Menor preço dos últimos 10 anos: 130.044\n",
            "Maior preço no último ano: 1187.56\n",
            "Menor preço no último ano: 753.22\n"
          ]
        }
      ],
      "source": [
        "!./stocks1 < stocks.txt"
      ]
    },
    {
      "cell_type": "code",
      "execution_count": null,
      "metadata": {
        "colab": {
          "base_uri": "https://localhost:8080/"
        },
        "id": "aRyaVrTxoL0N",
        "outputId": "14471480-2164-4015-bd09-bd204d36a99c"
      },
      "outputs": [
        {
          "name": "stdout",
          "output_type": "stream",
          "text": [
            "Overwriting stocks2.cu\n"
          ]
        }
      ],
      "source": [
        "%%writefile stocks2.cu\n",
        "#include <utility>\n",
        "#include <vector>\n",
        "#include <thrust/device_vector.h>\n",
        "#include <thrust/host_vector.h>\n",
        "#include <iostream>\n",
        "#include <chrono>\n",
        "\n",
        "using namespace std;\n",
        "\n",
        "int main() {\n",
        "    int n =  2518;\n",
        "    double apple, ms = 0.0;\n",
        "    std::chrono::duration<double> diff;\n",
        "\n",
        "    // Leitura do dado\n",
        "    auto leitura_i = std::chrono::steady_clock::now();\n",
        "    thrust::host_vector<double> H_apple(n);\n",
        "    thrust::host_vector<double> H_ms(n);\n",
        "    for(int i = 0; i<n; i++){\n",
        "        cin >> apple >> ms;\n",
        "        H_apple[i] = apple;\n",
        "        H_ms[i] = ms;\n",
        "    }\n",
        "    auto leitura_f = std::chrono::steady_clock::now();\n",
        "    diff  = leitura_f-leitura_i;\n",
        "    cout << \"Tempo de LEITURA (em segundos)  \" << diff.count() << endl;\n",
        "\n",
        "    // Copia o dados para a GPU\n",
        "    auto copia_i = std::chrono::steady_clock::now();\n",
        "    thrust::device_vector<double> D_apple = H_apple;\n",
        "    thrust::device_vector<double> D_ms = H_ms;\n",
        "    auto copia_f = std::chrono::steady_clock::now();\n",
        "    diff  = copia_f-copia_i;\n",
        "    cout << \"Tempo de CÓPIA (em segundos)  \" << diff.count() << endl;\n",
        "\n",
        "    // Obtém as diferenças dos preços\n",
        "    thrust::device_vector<double> diferencas(D_apple.size());\n",
        "    thrust::transform(D_ms.begin(), D_ms.end(),\n",
        "                      D_apple.begin(),\n",
        "                      diferencas.begin(),\n",
        "                      thrust::minus<double>());\n",
        "\n",
        "    // Obtém a média das diferenças\n",
        "    double media = thrust::reduce(diferencas.begin(), diferencas.end()) / diferencas.size();\n",
        "    cout << \"Diferença média de preços  \" << media << endl;\n",
        "\n",
        "    return 0;\n",
        "}"
      ]
    },
    {
      "cell_type": "code",
      "execution_count": null,
      "metadata": {
        "id": "1dE6RWwdo7EN"
      },
      "outputs": [],
      "source": [
        "!nvcc -arch=sm_70 -std=c++14 stocks2.cu -o stocks2"
      ]
    },
    {
      "cell_type": "code",
      "execution_count": null,
      "metadata": {
        "colab": {
          "base_uri": "https://localhost:8080/"
        },
        "id": "dVo1DKdIo7Gc",
        "outputId": "91c64b54-3be0-42ab-be39-d8cc0609c355"
      },
      "outputs": [
        {
          "name": "stdout",
          "output_type": "stream",
          "text": [
            "Tempo de LEITURA (em segundos)  0.00818358\n",
            "Tempo de CÓPIA (em segundos)  0.185722\n",
            "Diferença média de preços  39.4165\n"
          ]
        }
      ],
      "source": [
        "!./stocks2 < stocks2.csv"
      ]
    },
    {
      "cell_type": "code",
      "execution_count": null,
      "metadata": {
        "id": "FwtefCQpjrgB"
      },
      "outputs": [],
      "source": []
    }
  ],
  "metadata": {
    "accelerator": "GPU",
    "colab": {
      "gpuType": "T4",
      "provenance": []
    },
    "kernelspec": {
      "display_name": "Python 3",
      "name": "python3"
    },
    "language_info": {
      "name": "python"
    }
  },
  "nbformat": 4,
  "nbformat_minor": 0
}
