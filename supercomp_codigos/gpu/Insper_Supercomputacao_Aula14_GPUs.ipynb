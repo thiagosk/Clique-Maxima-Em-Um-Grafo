{
  "cells": [
    {
      "cell_type": "markdown",
      "metadata": {
        "id": "8bfD2-4OP_Ch"
      },
      "source": [
        "Insper\n",
        "\n",
        "# Aula 13 (ou 14 ou 17 =P) - Introdução à GPU\n",
        "\n",
        "Pessoal, podemos usar a GPU do Colab para os códigos iniciais de familiarização com a biblioteca [Thrust](https://thrust.github.io/).\n",
        "\n",
        "**Passos**:\n",
        "1. Criar o ambiente de execução\n",
        "2. Alterar o ambiente de execução para T4 (GPU)\n",
        "3. Verificar a versão instalada do `nvcc` (comando abaixo)\n",
        "4. Programar numa célula e salvar o conteúdo como arquivo \".cu\"\n",
        "5. Compilar com `nvcc` (comando abaixo)\n",
        "6. Executar normalmente!"
      ]
    },
    {
      "cell_type": "code",
      "execution_count": null,
      "metadata": {
        "colab": {
          "base_uri": "https://localhost:8080/"
        },
        "id": "QcIrlBqcAE_F",
        "outputId": "93805abe-d519-421e-fcc4-9c94e105a3c6"
      },
      "outputs": [
        {
          "name": "stdout",
          "output_type": "stream",
          "text": [
            "nvcc: NVIDIA (R) Cuda compiler driver\n",
            "Copyright (c) 2005-2022 NVIDIA Corporation\n",
            "Built on Wed_Sep_21_10:33:58_PDT_2022\n",
            "Cuda compilation tools, release 11.8, V11.8.89\n",
            "Build cuda_11.8.r11.8/compiler.31833905_0\n"
          ]
        }
      ],
      "source": [
        "!nvcc --version"
      ]
    },
    {
      "cell_type": "markdown",
      "metadata": {
        "id": "k_6PV2RtC0zL"
      },
      "source": [
        "```cpp\n",
        "#include <thrust/device_vector.h>\n",
        "#include <thrust/host_vector.h>\n",
        "#include <iostream>\n",
        "\n",
        "int main() {\n",
        "    thrust::host_vector<double> host(5, 0);\n",
        "    host[4] = 35;\n",
        "\n",
        "    /* na linha abaixo os dados são copiados\n",
        "       para GPU */\n",
        "    thrust::device_vector<double> dev(host);\n",
        "    /* a linha abaixo só muda o vetor na CPU */\n",
        "    host[2] = 12;\n",
        "\n",
        "    printf(\"Host vector: \");\n",
        "    for (auto i = host.begin(); i != host.end(); i++) {\n",
        "        std::cout << *i << \" \"; // este acesso é rápido -- CPU\n",
        "    }\n",
        "    printf(\"\\n\");\n",
        "\n",
        "    printf(\"Device vector: \");\n",
        "    for (auto i = dev.begin(); i != dev.end(); i++) {\n",
        "        std::cout << *i << \" \"; // este acesso é lento! -- GPU\n",
        "    }\n",
        "    printf(\"\\n\");\n",
        "\n",
        "}\n",
        "```"
      ]
    },
    {
      "cell_type": "code",
      "execution_count": null,
      "metadata": {
        "colab": {
          "base_uri": "https://localhost:8080/"
        },
        "id": "PcFboHcJANpR",
        "outputId": "46f1712b-3f08-49d0-eaac-6e6b65ffe89b"
      },
      "outputs": [
        {
          "name": "stdout",
          "output_type": "stream",
          "text": [
            "Writing exemplo1.cu\n"
          ]
        }
      ],
      "source": [
        "%%writefile exemplo1.cu\n",
        "#include <thrust/device_vector.h>\n",
        "#include <thrust/host_vector.h>\n",
        "#include <iostream>\n",
        "\n",
        "int main() {\n",
        "    thrust::host_vector<double> host(5, 0);\n",
        "    host[4] = 35;\n",
        "\n",
        "    /* na linha abaixo os dados são copiados para GPU */\n",
        "    thrust::device_vector<double> dev(host);\n",
        "    \n",
        "    /* a linha abaixo só muda o vetor na CPU */\n",
        "    host[2] = 12;\n",
        "\n",
        "    printf(\"Host vector: \");\n",
        "    for (auto i = host.begin(); i != host.end(); i++) {\n",
        "        std::cout << *i << \" \"; // este acesso é rápido -- CPU\n",
        "    }\n",
        "    printf(\"\\n\");\n",
        "\n",
        "    printf(\"Device vector: \");\n",
        "    for (auto i = dev.begin(); i != dev.end(); i++) {\n",
        "        std::cout << *i << \" \"; // este acesso é lento! -- GPU\n",
        "    }\n",
        "    printf(\"\\n\");\n",
        "\n",
        "}"
      ]
    },
    {
      "cell_type": "code",
      "execution_count": null,
      "metadata": {
        "id": "E7J9FNaFRmgK"
      },
      "outputs": [],
      "source": [
        "# Mesmo comando do roteiro\n",
        "!nvcc -arch=sm_70 -std=c++14 exemplo1.cu -o exemplo1"
      ]
    },
    {
      "cell_type": "code",
      "execution_count": null,
      "metadata": {
        "colab": {
          "base_uri": "https://localhost:8080/"
        },
        "id": "R4Gd_x8uRmi5",
        "outputId": "594198fd-a7f3-462f-df40-7ce1a52923f0"
      },
      "outputs": [
        {
          "name": "stdout",
          "output_type": "stream",
          "text": [
            "Host vector: 0 0 12 0 35 \n",
            "Device vector: 0 0 0 0 35 \n"
          ]
        }
      ],
      "source": [
        "!./exemplo1"
      ]
    },
    {
      "cell_type": "markdown",
      "metadata": {
        "id": "Iw7yDKspDbFj"
      },
      "source": [
        "```cpp\n",
        "%%writefile exemplo2.cu\n",
        "#include <thrust/device_vector.h>\n",
        "#include <thrust/host_vector.h>\n",
        "#include <thrust/functional.h>\n",
        "#include <thrust/transform.h>\n",
        "#include <iostream>\n",
        "\n",
        "int main() {\n",
        "    thrust::device_vector<double> V1(10, 0);\n",
        "    thrust::sequence(V1.begin(), V1.end());\n",
        "\n",
        "    thrust::device_vector<double> V2(10, 0);\n",
        "    thrust::fill(V2.begin(), V2.begin() + 5, 5.5);\n",
        "    thrust::fill(V2.begin()+5, V2.end(), 10);\n",
        "\n",
        "    thrust::device_vector<double> V3(10);\n",
        "    thrust::device_vector<double> V4(10);\n",
        "\n",
        "    thrust::transform(V1.begin(), V1.end(), V2.begin(), V3.begin(), thrust::plus<double>());\n",
        "    thrust::transform(V1.begin(), V1.end(), thrust::constant_iterator<double>(0.5), V4.begin(), thrust::multiplies<double>());\n",
        "\n",
        "    printf(\"V1: \");\n",
        "    for (thrust::device_vector<double>::iterator i = V1.begin(); i != V1.end(); i++) {\n",
        "        std::cout << *i << \" \";\n",
        "    }\n",
        "    printf(\"\\n\");\n",
        "\n",
        "    printf(\"V2: \");\n",
        "    for (thrust::device_vector<double>::iterator i = V2.begin(); i != V2.end(); i++) {\n",
        "        std::cout << *i << \" \";\n",
        "    }\n",
        "    printf(\"\\n\");\n",
        "\n",
        "    printf(\"V3: \");\n",
        "    for (thrust::device_vector<double>::iterator i = V3.begin(); i != V3.end(); i++) {\n",
        "        std::cout << *i << \" \";\n",
        "    }\n",
        "    printf(\"\\n\");\n",
        "\n",
        "    printf(\"V4: \");\n",
        "    for (thrust::device_vector<double>::iterator i = V4.begin(); i != V4.end(); i++) {\n",
        "        std::cout << *i << \" \";\n",
        "    }\n",
        "    printf(\"\\n\");\n",
        "\n",
        "}\n",
        "\n",
        "```"
      ]
    },
    {
      "cell_type": "code",
      "execution_count": null,
      "metadata": {
        "colab": {
          "base_uri": "https://localhost:8080/"
        },
        "id": "cKrM51w8Bhfb",
        "outputId": "c1a36e98-0bc2-447e-e4c0-6065e92c0933"
      },
      "outputs": [
        {
          "name": "stdout",
          "output_type": "stream",
          "text": [
            "Overwriting exemplo2.cu\n"
          ]
        }
      ],
      "source": [
        "%%writefile exemplo2.cu\n",
        "#include <thrust/device_vector.h>\n",
        "#include <thrust/host_vector.h>\n",
        "#include <thrust/functional.h>\n",
        "#include <thrust/transform.h>\n",
        "#include <iostream>\n",
        "\n",
        "int main() {\n",
        "    thrust::device_vector<double> V1(10, 0);\n",
        "    thrust::sequence(V1.begin(), V1.end()); // 0, 1, 2, 3, 4, 5, 6, 7, 8, 9\n",
        "\n",
        "    thrust::device_vector<double> V2(5, 0);\n",
        "    thrust::fill(V2.begin(), V2.begin() + 2, 5.5); // 5.5, 5.5, 0, 0, 0\n",
        "    thrust::fill(V2.begin()+2, V2.end(), 10); // 5.5, 5.5, 10, 10, 10\n",
        "\n",
        "    thrust::device_vector<double> V3(10);\n",
        "    //thrust::device_vector<double> V4(10);\n",
        "\n",
        "    thrust::transform(V1.begin(), V1.end(), V2.begin(), V3.begin(), thrust::plus<double>());\n",
        "    //thrust::transform(V1.begin(), V1.end(), thrust::constant_iterator<double>(0.5), V4.begin(), thrust::multiplies<double>());\n",
        "\n",
        "    printf(\"V1: \");\n",
        "    for (thrust::device_vector<double>::iterator i = V1.begin(); i != V1.end(); i++) {\n",
        "        std::cout << *i << \" \";\n",
        "    }\n",
        "    printf(\"\\n\");\n",
        "\n",
        "    printf(\"V2: \");\n",
        "    for (thrust::device_vector<double>::iterator i = V2.begin(); i != V2.end(); i++) {\n",
        "        std::cout << *i << \" \";\n",
        "    }\n",
        "    printf(\"\\n\");\n",
        "\n",
        "    printf(\"V3: \");\n",
        "    for (thrust::device_vector<double>::iterator i = V3.begin(); i != V3.end(); i++) {\n",
        "        std::cout << *i << \" \";\n",
        "    }\n",
        "    printf(\"\\n\");\n",
        "\n",
        "    //printf(\"V4: \");\n",
        "    //for (thrust::device_vector<double>::iterator i = V4.begin(); i != V4.end(); i++) {\n",
        "    //    std::cout << *i << \" \";\n",
        "    //}\n",
        "    printf(\"\\n\");\n",
        "\n",
        "}\n"
      ]
    },
    {
      "cell_type": "code",
      "execution_count": null,
      "metadata": {
        "id": "g6APyEdeANuM"
      },
      "outputs": [],
      "source": [
        "!nvcc -arch=sm_70 -std=c++14 exemplo2.cu -o exemplo2"
      ]
    },
    {
      "cell_type": "code",
      "execution_count": null,
      "metadata": {
        "colab": {
          "base_uri": "https://localhost:8080/"
        },
        "id": "Hs2G53JxBetN",
        "outputId": "cac1c558-9f41-442e-d537-07334372877d"
      },
      "outputs": [
        {
          "name": "stdout",
          "output_type": "stream",
          "text": [
            "V1: 0 1 2 3 4 5 6 7 8 9 \n",
            "V2: 5.5 5.5 10 10 10 \n",
            "V3: 5.5 6.5 12 13 14 5 6 7 8 9 \n",
            "\n"
          ]
        }
      ],
      "source": [
        "!./exemplo2"
      ]
    },
    {
      "cell_type": "markdown",
      "metadata": {
        "id": "82RE54RyFHfy"
      },
      "source": [
        "```cpp\n",
        "%%writefile stocks.cu\n",
        "#include<thrust/device_vector.h>\n",
        "#include <thrust/host_vector.h>\n",
        "#include <iostream>\n",
        "#include <chrono>\n",
        "using namespace std;\n",
        "int main() {\n",
        "    int n =  2518;\n",
        "    double value = 0.0;\n",
        "    std::chrono::duration<double> diff;\n",
        "\n",
        "    auto leitura_i = std::chrono::steady_clock::now();\n",
        "    thrust::host_vector<double> host(n,0);\n",
        "    for(int i = 0; i<n; i++){\n",
        "        cin >> value;\n",
        "        host[i] = value;\n",
        "    }\n",
        "    auto leitura_f = std::chrono::steady_clock::now();\n",
        "    diff  = leitura_f-leitura_i;\n",
        "    cout << \"Tempo de LEITURA (em segundos)  \" << diff.count() << endl;\n",
        "\n",
        "\n",
        "    auto copia_i = std::chrono::steady_clock::now();\n",
        "    thrust::device_vector<double> dev(host);\n",
        "    auto copia_f = std::chrono::steady_clock::now();\n",
        "    diff  = copia_f-copia_i;\n",
        "    cout << \"Tempo de CÓPIA (em segundos)  \" << diff.count() << endl;\n",
        "}\n",
        "\n",
        "```"
      ]
    },
    {
      "cell_type": "code",
      "execution_count": null,
      "metadata": {
        "colab": {
          "base_uri": "https://localhost:8080/"
        },
        "id": "Qo-Y1y-ABsDL",
        "outputId": "58aabc3b-eb0a-4678-db35-35c05275fac8"
      },
      "outputs": [
        {
          "name": "stdout",
          "output_type": "stream",
          "text": [
            "Writing stocks.cu\n"
          ]
        }
      ],
      "source": [
        "%%writefile stocks.cu\n",
        "#include<thrust/device_vector.h>\n",
        "#include <thrust/host_vector.h>\n",
        "#include <iostream>\n",
        "#include <chrono>\n",
        "using namespace std;\n",
        "int main() {\n",
        "    int n =  2518;\n",
        "    double value = 0.0;\n",
        "    std::chrono::duration<double> diff;\n",
        "\n",
        "    auto leitura_i = std::chrono::steady_clock::now();\n",
        "    thrust::host_vector<double> host(n,0);\n",
        "    for(int i = 0; i<n; i++){\n",
        "        cin >> value;\n",
        "        host[i] = value;\n",
        "    }\n",
        "    auto leitura_f = std::chrono::steady_clock::now();\n",
        "    diff  = leitura_f-leitura_i;\n",
        "    cout << \"Tempo de LEITURA (em segundos)  \" << diff.count() << endl;\n",
        "\n",
        "\n",
        "    auto copia_i = std::chrono::steady_clock::now();\n",
        "    thrust::device_vector<double> dev(host);\n",
        "    auto copia_f = std::chrono::steady_clock::now();\n",
        "    diff  = copia_f-copia_i;\n",
        "    cout << \"Tempo de CÓPIA (em segundos)  \" << diff.count() << endl;\n",
        "}"
      ]
    },
    {
      "cell_type": "code",
      "execution_count": null,
      "metadata": {
        "id": "fq2-6kCXCyCx"
      },
      "outputs": [],
      "source": [
        "!nvcc -arch=sm_70 -std=c++14 stocks.cu -o stocks"
      ]
    },
    {
      "cell_type": "code",
      "execution_count": null,
      "metadata": {
        "colab": {
          "base_uri": "https://localhost:8080/"
        },
        "id": "6WP8SzhrCyJQ",
        "outputId": "4043173c-4769-4605-fc7f-a428377a2ff0"
      },
      "outputs": [
        {
          "name": "stdout",
          "output_type": "stream",
          "text": [
            "Tempo de LEITURA (em segundos)  0.00294546\n",
            "Tempo de CÓPIA (em segundos)  0.198211\n"
          ]
        }
      ],
      "source": [
        "!./stocks < stocks.txt"
      ]
    },
    {
      "cell_type": "code",
      "execution_count": null,
      "metadata": {
        "id": "Evn6T1IaC4Vb"
      },
      "outputs": [],
      "source": []
    }
  ],
  "metadata": {
    "accelerator": "GPU",
    "colab": {
      "gpuType": "T4",
      "provenance": []
    },
    "kernelspec": {
      "display_name": "Python 3",
      "name": "python3"
    },
    "language_info": {
      "name": "python"
    }
  },
  "nbformat": 4,
  "nbformat_minor": 0
}
